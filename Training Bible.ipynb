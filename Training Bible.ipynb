{
 "cells": [
  {
   "cell_type": "markdown",
   "metadata": {},
   "source": [
    "# The Cyclist's Training Bible"
   ]
  },
  {
   "cell_type": "markdown",
   "metadata": {},
   "source": [
    "#### 冠軍選手的特質\n",
    "1. 能力\n",
    "2. 企圖心\n",
    "3. 機會\n",
    "4. 使命感\n",
    "5. 支援系統\n",
    "6. 有計劃的訓練\n",
    "7. 心理素質：求勝、自律、自信、耐心、韌性"
   ]
  },
  {
   "cell_type": "markdown",
   "metadata": {},
   "source": [
    "#### 自行車訓練十誡\n",
    "1. 適度：大部分時候輕鬆訓練，少數時候全力訓練\n",
    "2. 持續：設想訓練分為基礎期、進展期、巔峰期，在基礎期思考持續進步的最低訓練量。輕鬆才能長久。\n",
    "3. 充分休息\n",
    "4. 有計劃的訓練\n",
    "5. 不要太常參加團體\n",
    "6. 有計劃的達到巔峰\n",
    "7. 改善弱點\n",
    "8. 相信自己的基礎訓練，賽前10~21天要降低訓練量\n",
    "9. 傾聽身體的反應\n",
    "10. 全力以赴"
   ]
  },
  {
   "cell_type": "markdown",
   "metadata": {},
   "source": [
    "### 運動生理學\n",
    "\n",
    "#### 攝氧能力 Aerobic Capacity \n",
    "最大攝氧能力 $VO_2max$ 每公斤體重每分鐘的最大攝氧能力(ml/kg-min)\n",
    "\n",
    "選手大約 70~80，一般大專男生 40~50, 女生約男生的90%\n",
    "\n",
    "\n",
    "#### 乳酸閾值 Lactate Threshold (LT)\n",
    "代表運動強度與乳酸代謝能力的臨界，超過之後血液中酸性物質開始累積，並且由燃燒脂肪與氧轉變為燃燒肝醣。\n",
    "\n",
    "一般人乳酸閾值為最大攝氧量的50%以下，訓練後可達最大攝氧量的90%\n",
    "\n",
    "#### 有氧閾值 Aerobic Threshold \n",
    "仍然保有精力的強度。心率在第二區間。此定義無法在實驗室明確量測。\n",
    "\n",
    "#### 經濟性\n",
    "像是輸出效率的概念\n",
    "\n",
    "### 訓練壓力\n",
    "頻率、持續時間、訓練量、訓練強度\n",
    "\n",
    "### 疲勞\n",
    "乳酸堆積、肝醣耗盡、肌肉失能\n",
    "\n",
    "\n",
    "### 訓練的原則\n",
    "- Individualization 個人化\n",
    "- Progressive 漸進式\n",
    "- Overload 超負荷\n",
    "- Specificity 特定性，針對專項運動所需的能力去訓練\n",
    "\n",
    "### 強度量測\n",
    "- 主觀感受量表 (RPE: Borg Rating of Perceived Exertion Scale)\n",
    "- 乳酸鹽濃度\n",
    "- 功率\n",
    "- 心率\n",
    "\n",
    "### 競賽能力：耐力、力量、技巧\n",
    "耐力＋力量：肌耐力\n",
    "\n",
    "力量＋技巧：爆發力\n",
    "\n",
    "技巧＋耐力：無氧耐力\n",
    "\n",
    "\n",
    "|         | 準備期 | 基礎期一 | 基礎期二 | 基礎期三 | 進展期一 | 進展期二 | 巔峰期 | 競賽期 |\n",
    "| ------  | ----- | ------ | ------- | ------- | ------- | ------ | ----- | ----- |\n",
    "| 耐力    | 8      | 7      | 6       | 5       | 3       | 3      | 2     | 2     |\n",
    "| 力量    | 1      | 2      | 2       | 1       | 1       | 1      | 1     | 1     |\n",
    "| 技巧    | 1      | 1      | 1       | 1       |         |        |       |       |\n",
    "| 肌耐力   |       |        | 1       | 3       | 3       | 3       | 3     | 2     |\n",
    "| 無氧耐力 |        |        |         |        | 2       | 2       | 3     | 4     |\n",
    "| 爆發力   |       |        |         |         | 1       | 1       | 1     | 1     |"
   ]
  },
  {
   "cell_type": "markdown",
   "metadata": {},
   "source": [
    "### 訓練日誌\n",
    "- 晨起警訊\n",
    "- 訓練項目\n",
    "- 各強度區間的運動時間\n",
    "- 身體狀況註記\n",
    "- 心理狀況註記\n"
   ]
  },
  {
   "cell_type": "code",
   "execution_count": null,
   "metadata": {},
   "outputs": [],
   "source": []
  }
 ],
 "metadata": {
  "kernelspec": {
   "display_name": "Python 3",
   "language": "python",
   "name": "python3"
  },
  "language_info": {
   "codemirror_mode": {
    "name": "ipython",
    "version": 3
   },
   "file_extension": ".py",
   "mimetype": "text/x-python",
   "name": "python",
   "nbconvert_exporter": "python",
   "pygments_lexer": "ipython3",
   "version": "3.6.4"
  }
 },
 "nbformat": 4,
 "nbformat_minor": 2
}
