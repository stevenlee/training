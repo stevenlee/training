{
 "cells": [
  {
   "cell_type": "markdown",
   "metadata": {},
   "source": [
    "# Power Training for Cycling\n"
   ]
  },
  {
   "cell_type": "markdown",
   "metadata": {},
   "source": [
    "#### Functional Threshold Power (FTP)\n",
    "\n",
    "能夠穩定持續輸出一小時的最大功率\n",
    "\n",
    "或者，\n",
    "\n",
    "能夠穩定持續輸出20分鐘的最大功率乘以0.95"
   ]
  },
  {
   "cell_type": "markdown",
   "metadata": {},
   "source": [
    "#### 強度區間\n",
    "\n",
    "| Zone | % of FTP | Purpose   | Duration (min) | times per week |\n",
    "| ---- | -------- | --------- | -------------- | -------------- |\n",
    "| 1    | < 55%    | 主動恢復   | 30 ~ 90        | 1 ~ 3          |\n",
    "| 2    | < 75%    | 有氧耐力   | 60 ~ 360       | 1 ~ 4          |\n",
    "| 3    | < 90%    | 強有氧耐力 | 60 ~ 180        | 1 ~ 3          |\n",
    "| 4    | < 105%   | 乳酸閾值   | 8 ~ 30         | 1 ~ 3          |\n",
    "| 5    | < 120%   | 最大攝氧量 | 3 ~ 8           | 1 ~ 2          |\n",
    "| 6    | < 150%   | 無氧耐力   | 0.5 ~ 3         | 1 ~ 2          |\n",
    "| 7    | 全力衝刺  | 衝刺能力   |  < 0.5          | 1 ~ 2          |"
   ]
  },
  {
   "cell_type": "markdown",
   "metadata": {},
   "source": [
    "#### 最大平均功率\n",
    "\n",
    "|         | 衝刺能力 (5sec) | 無氧能力 (60sec) | 最大有氧能力 (5min) | 乳酸閾值 (20min) |\n",
    "| ------- | -------------- | --------------- | ----------------- | -------------- |\n",
    "| Watt/Kg | S              |  A              | V                 | F              |\n",
    "\n",
    "- 全能型：SAVF 排名平均。\n",
    "- 衝刺型：SA 特別好，適合短距離賽，但是仍需要訓練有氧能力。\n",
    "- 爬坡型：VF 特別好，適合個人計時賽、爬坡賽、鐵人三項。\n",
    "- 短途場地型：AV 特別好，適合一公里計時賽、個人追逐賽。\n",
    "- 欠操型：SF 特別好，表示有潛力還沒發揮。"
   ]
  },
  {
   "cell_type": "markdown",
   "metadata": {},
   "source": [
    "#### 功率衰退程度 (FP, Fatigue Profile)\n",
    "\n",
    "計算不同時間長度下平均功率衰退的程度。"
   ]
  },
  {
   "cell_type": "markdown",
   "metadata": {},
   "source": [
    "#### 標準化功率 Normalized Power (NP)\n",
    "\n",
    "NP = $(\\frac{\\sum_{i=1}^{N}{P_i^4}}{N})^{0.25}$"
   ]
  },
  {
   "cell_type": "markdown",
   "metadata": {},
   "source": [
    "#### 強度係數 Intensity Factor (IF)\n",
    "\n",
    "IF = $\\frac{NP}{FTP}$"
   ]
  },
  {
   "cell_type": "markdown",
   "metadata": {},
   "source": [
    "#### 變動指數 Variance Index (VI)\n",
    "\n",
    "Average Power = $P_{avg} =\\frac{\\sum_{i=1}^{N}{P_i}}{N}$\n",
    "\n",
    "VI = $\\frac{NP}{P_{avg}}$"
   ]
  },
  {
   "cell_type": "markdown",
   "metadata": {},
   "source": [
    "#### 訓練壓力指數 Training Stress Score (TSS)\n",
    "$ TSS = 100 \\times \\frac{Hour \\times NP \\times IF}{FTP}$ \n",
    "$ = 100 \\times (\\frac{NP}{FTP})^2 \\times Hour$ \n"
   ]
  },
  {
   "cell_type": "markdown",
   "metadata": {},
   "source": [
    "#### 象限分析 Quadant Analysis\n",
    "\n",
    "|  | Low Cadence <br> (T-Cadence 以下) | High Cadence <br> (T-Cadence 以上)|\n",
    "| --- | --- | --- |\n",
    "| High Power <br> (FTP 以上) |Q II <br> 重齒比| Q I <br> 衝刺 |\n",
    "| Low Power <br> (FTP 以下) |Q III <br> 恢復 | Q IV <br> 輕齒比 |\n",
    "\n",
    "**T-Cadence : ** Threshold Cadence 臨界迴轉速，FTP測試時的平均迴轉速。\n"
   ]
  },
  {
   "cell_type": "markdown",
   "metadata": {},
   "source": [
    "#### 效率係數 Efficiency Factor (EF)\n",
    "\n",
    "$ EF = \\frac{NP}{HR_{avg}} $\n",
    "\n",
    "**HR :** Heart Rate"
   ]
  },
  {
   "cell_type": "markdown",
   "metadata": {},
   "source": [
    "### Other WKO Parameters\n",
    "Reference :\n",
    "    [WKO4 Definition](http://www.wko4help.com/terms-and-definitions)"
   ]
  },
  {
   "cell_type": "markdown",
   "metadata": {},
   "source": [
    "#### CIL : Chronic Intensity Load 長期訓練強度\n",
    "To see the trend of Intensity Factor\n",
    "\n",
    "$CIL_t = (1000 \\times IF) \\times 0.0235 + CIL_{t-1} \\times 0.9765$\n",
    "\n",
    "$1-e^{(-1/42)} = 0.0235$\n",
    "\n",
    "$e^{(-1/42)} = 0.9765$"
   ]
  },
  {
   "cell_type": "markdown",
   "metadata": {},
   "source": [
    "#### CTL : Chronic Training Load 長期訓練量\n",
    "\n",
    "$CTL = Average_{6 weeks}(TSS)$\n",
    "\n",
    "Normal : 25 ~ 145"
   ]
  },
  {
   "cell_type": "markdown",
   "metadata": {},
   "source": [
    "#### ATL : Acute Training Load 短期訓練量\n",
    "\n",
    "$ATL = Average_{7 days}(TSS)$\n",
    "\n",
    "Normal : 20 ~ 90"
   ]
  },
  {
   "cell_type": "markdown",
   "metadata": {},
   "source": [
    "#### TSB : Training Stress Balance 訓練壓力平衡指數\n",
    "\n",
    "$ TSB = f(ATL - CTL) $\n",
    "\n",
    "Normal : 5 ~ 25"
   ]
  },
  {
   "cell_type": "markdown",
   "metadata": {},
   "source": [
    "#### RR : Ramp Rate 訓練量增加率\n",
    "\n",
    "$ RR = f(\\Delta CTL) $"
   ]
  },
  {
   "cell_type": "markdown",
   "metadata": {},
   "source": [
    "#### PMAX : Maximal Power 最大功率"
   ]
  },
  {
   "cell_type": "markdown",
   "metadata": {},
   "source": [
    "#### FRC : Functional Reserve Capacity 無氧儲備能力\n",
    "輸出功率超過FTP時所能維持的總做功能力，單位 KJ\n",
    "\n",
    "$FRC = \\int P dt \\div 1000$\n",
    "\n",
    "(P: Watt, t: Sec, FRC: kJ)\n",
    "\n",
    "（男性 23 KJ 以上為優秀，女性大約為男性的75%）"
   ]
  },
  {
   "cell_type": "markdown",
   "metadata": {},
   "source": [
    "#### mFTP : Modeled FTP\n",
    "根據過去90天功率-時間曲線推算的FTP。（90天內騎乘30~60 min的資料中的最大平均功率）\n",
    "\n",
    "#### sFTP : Set FTP\n",
    "使用者手動輸入的 FTP"
   ]
  },
  {
   "cell_type": "markdown",
   "metadata": {},
   "source": [
    "#### Stamina 續航力\n",
    "在一個小時之後Power衰退的程度。\n",
    "\n",
    "假想的公式：\n",
    "$ (1-\\frac{P_{60 } - P_{120}}{P_{60}}) \\times 100\\% $\n",
    "\n",
    "自行車手約 75 ~ 85%\n",
    "\n",
    "[WKO4 Training Metrics: Introducing Stamina](https://www.trainingpeaks.com/blog/wko4-training-metrics-introducing-stamina/)"
   ]
  },
  {
   "cell_type": "markdown",
   "metadata": {},
   "source": [
    "#### VAM : Average Ascent Speed 平均爬升速度\n",
    "\n",
    "VAM = Climb Height / time\n",
    "\n",
    "(VAM: m/hour, Climb Height: meter time: hour)"
   ]
  },
  {
   "cell_type": "markdown",
   "metadata": {},
   "source": [
    "#### AEPF : Average Effective Pedal Force 平均有效踩踏力量\n",
    "\n",
    "AEPF = $ (P \\times 60) / (Cadence \\times 2\\pi \\times R)$\n",
    "\n",
    "R: Crank length\n",
    "\n",
    "#### MEPF Maximum Effective Pedal Force 最大有效踩踏力量\n",
    "\n",
    "MEPF = $ (P_{max} \\times 60) / (Cadence_i \\times 2\\pi \\times R)$"
   ]
  },
  {
   "cell_type": "code",
   "execution_count": null,
   "metadata": {},
   "outputs": [],
   "source": []
  }
 ],
 "metadata": {
  "kernelspec": {
   "display_name": "Python 3",
   "language": "python",
   "name": "python3"
  },
  "language_info": {
   "codemirror_mode": {
    "name": "ipython",
    "version": 3
   },
   "file_extension": ".py",
   "mimetype": "text/x-python",
   "name": "python",
   "nbconvert_exporter": "python",
   "pygments_lexer": "ipython3",
   "version": "3.6.4"
  }
 },
 "nbformat": 4,
 "nbformat_minor": 2
}
